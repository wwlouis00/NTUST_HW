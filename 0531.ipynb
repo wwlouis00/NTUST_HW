{
 "cells": [
  {
   "cell_type": "code",
   "execution_count": null,
   "metadata": {},
   "outputs": [
    {
     "ename": "",
     "evalue": "",
     "output_type": "error",
     "traceback": [
      "\u001b[1;31mFailed to start the Kernel. \n",
      "PermissionError: [WinError 5] 存取被拒。: 'C:\\\\Program Files\\\\Git\\\\.ipython'. \n",
      "View Jupyter <a href='command:jupyter.viewOutput'>log</a> for further details."
     ]
    }
   ],
   "source": [
    "import torch\n",
    "#Tensors - Common Operations\n",
    "x = torch.zeros([2,3])\n",
    "print(x.shape)\n",
    "x = x.transpose(0,1)\n",
    "print(x.shape)"
   ]
  },
  {
   "cell_type": "code",
   "execution_count": null,
   "metadata": {},
   "outputs": [
    {
     "name": "stdout",
     "output_type": "stream",
     "text": [
      "torch.Size([1, 2, 3])\n",
      "torch.Size([2, 3])\n"
     ]
    },
    {
     "ename": "",
     "evalue": "",
     "output_type": "error",
     "traceback": [
      "\u001b[1;31mFailed to start the Kernel. \n",
      "PermissionError: [WinError 5] 存取被拒。: 'C:\\\\Program Files\\\\Git\\\\.ipython'. \n",
      "View Jupyter <a href='command:jupyter.viewOutput'>log</a> for further details."
     ]
    }
   ],
   "source": [
    "x = torch.zeros([1,2,3])\n",
    "print(x.shape)\n",
    "x = x.squeeze(0) #(dim=0)\n",
    "print(x.shape) "
   ]
  },
  {
   "cell_type": "code",
   "execution_count": null,
   "metadata": {},
   "outputs": [
    {
     "name": "stdout",
     "output_type": "stream",
     "text": [
      "torch.Size([2, 3])\n",
      "torch.Size([2, 1, 3])\n"
     ]
    },
    {
     "ename": "",
     "evalue": "",
     "output_type": "error",
     "traceback": [
      "\u001b[1;31mFailed to start the Kernel. \n",
      "PermissionError: [WinError 5] 存取被拒。: 'C:\\\\Program Files\\\\Git\\\\.ipython'. \n",
      "View Jupyter <a href='command:jupyter.viewOutput'>log</a> for further details."
     ]
    }
   ],
   "source": [
    "#Unsqueeze\n",
    "x = torch.zeros([2,3])\n",
    "print(x.shape)\n",
    "x = x.unsqueeze(1)\n",
    "print(x.shape)\n"
   ]
  },
  {
   "cell_type": "code",
   "execution_count": null,
   "metadata": {},
   "outputs": [
    {
     "name": "stdout",
     "output_type": "stream",
     "text": [
      "torch.Size([2, 6, 3])\n"
     ]
    },
    {
     "ename": "",
     "evalue": "",
     "output_type": "error",
     "traceback": [
      "\u001b[1;31mFailed to start the Kernel. \n",
      "PermissionError: [WinError 5] 存取被拒。: 'C:\\\\Program Files\\\\Git\\\\.ipython'. \n",
      "View Jupyter <a href='command:jupyter.viewOutput'>log</a> for further details."
     ]
    }
   ],
   "source": [
    "# Cat 合併\n",
    "x = torch.zeros([2,1,3])\n",
    "y = torch.zeros([2,3,3])\n",
    "z = torch.zeros([2,2,3])\n",
    "w = torch.cat([x,y,z],dim=1)\n",
    "print(w.shape)"
   ]
  }
 ],
 "metadata": {
  "interpreter": {
   "hash": "83e925aff7966c9a2a8fdcc0a7711b0136df953771d80b9e8bcb52009c713c8d"
  },
  "kernelspec": {
   "display_name": "Python 3.7.3 ('base')",
   "language": "python",
   "name": "python3"
  },
  "language_info": {
   "codemirror_mode": {
    "name": "ipython",
    "version": 3
   },
   "file_extension": ".py",
   "mimetype": "text/x-python",
   "name": "python",
   "nbconvert_exporter": "python",
   "pygments_lexer": "ipython3",
   "version": "3.7.3"
  },
  "orig_nbformat": 4
 },
 "nbformat": 4,
 "nbformat_minor": 2
}
